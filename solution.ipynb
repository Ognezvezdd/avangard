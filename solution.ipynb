{
 "cells": [
  {
   "metadata": {
    "ExecuteTime": {
     "end_time": "2024-09-24T13:10:39.067295Z",
     "start_time": "2024-09-24T13:10:39.056589Z"
    }
   },
   "cell_type": "code",
   "source": [
    "import matplotlib\n",
    "import numpy as np\n",
    "import pandas as pd\n",
    "import seaborn as sns\n",
    "from matplotlib import pyplot as plt\n",
    "from scipy import stats"
   ],
   "id": "2418154c623dc825",
   "outputs": [],
   "execution_count": 146
  },
  {
   "metadata": {
    "ExecuteTime": {
     "end_time": "2024-09-24T13:10:39.193204Z",
     "start_time": "2024-09-24T13:10:39.174925Z"
    }
   },
   "cell_type": "code",
   "source": [
    "import datetime\n",
    "import warnings\n",
    "\n",
    "warnings.filterwarnings(\"ignore\")"
   ],
   "id": "98b4a1f859c99d1",
   "outputs": [],
   "execution_count": 147
  },
  {
   "metadata": {
    "ExecuteTime": {
     "end_time": "2024-09-24T13:10:39.224467Z",
     "start_time": "2024-09-24T13:10:39.195146Z"
    }
   },
   "cell_type": "code",
   "source": [
    "df = pd.read_csv(\"train - train.csv\")\n",
    "\n",
    "df"
   ],
   "id": "9d032db0cff9aee6",
   "outputs": [
    {
     "data": {
      "text/plain": [
       "        ID  Order Date     Class       Region Sub-Category     Sales\n",
       "0      646  30/12/2018  Стандарт         Урал   Appliances  37229,08\n",
       "1      907  30/12/2018  Стандарт  Владивосток    Bookcases  20994,61\n",
       "2      908  30/12/2018  Стандарт  Владивосток       Phones  42133,86\n",
       "3      909  30/12/2018  Стандарт  Владивосток      Binders     10612\n",
       "4     1297  30/12/2018  Стандарт   Калиниград      Binders  28781,13\n",
       "...    ...         ...       ...          ...          ...       ...\n",
       "9795  1760  05/01/2015  Стандарт  Владивосток          Art  8639,472\n",
       "9796   740  04/01/2015  Стандарт         Урал       Labels  15246,05\n",
       "9797   741  04/01/2015  Стандарт         Урал      Storage  20415,81\n",
       "9798   742  04/01/2015  Стандарт         Урал      Binders  4559,085\n",
       "9799  7981  03/01/2015  Стандарт         Урал        Paper  11726,47\n",
       "\n",
       "[9800 rows x 6 columns]"
      ],
      "text/html": [
       "<div>\n",
       "<style scoped>\n",
       "    .dataframe tbody tr th:only-of-type {\n",
       "        vertical-align: middle;\n",
       "    }\n",
       "\n",
       "    .dataframe tbody tr th {\n",
       "        vertical-align: top;\n",
       "    }\n",
       "\n",
       "    .dataframe thead th {\n",
       "        text-align: right;\n",
       "    }\n",
       "</style>\n",
       "<table border=\"1\" class=\"dataframe\">\n",
       "  <thead>\n",
       "    <tr style=\"text-align: right;\">\n",
       "      <th></th>\n",
       "      <th>ID</th>\n",
       "      <th>Order Date</th>\n",
       "      <th>Class</th>\n",
       "      <th>Region</th>\n",
       "      <th>Sub-Category</th>\n",
       "      <th>Sales</th>\n",
       "    </tr>\n",
       "  </thead>\n",
       "  <tbody>\n",
       "    <tr>\n",
       "      <th>0</th>\n",
       "      <td>646</td>\n",
       "      <td>30/12/2018</td>\n",
       "      <td>Стандарт</td>\n",
       "      <td>Урал</td>\n",
       "      <td>Appliances</td>\n",
       "      <td>37229,08</td>\n",
       "    </tr>\n",
       "    <tr>\n",
       "      <th>1</th>\n",
       "      <td>907</td>\n",
       "      <td>30/12/2018</td>\n",
       "      <td>Стандарт</td>\n",
       "      <td>Владивосток</td>\n",
       "      <td>Bookcases</td>\n",
       "      <td>20994,61</td>\n",
       "    </tr>\n",
       "    <tr>\n",
       "      <th>2</th>\n",
       "      <td>908</td>\n",
       "      <td>30/12/2018</td>\n",
       "      <td>Стандарт</td>\n",
       "      <td>Владивосток</td>\n",
       "      <td>Phones</td>\n",
       "      <td>42133,86</td>\n",
       "    </tr>\n",
       "    <tr>\n",
       "      <th>3</th>\n",
       "      <td>909</td>\n",
       "      <td>30/12/2018</td>\n",
       "      <td>Стандарт</td>\n",
       "      <td>Владивосток</td>\n",
       "      <td>Binders</td>\n",
       "      <td>10612</td>\n",
       "    </tr>\n",
       "    <tr>\n",
       "      <th>4</th>\n",
       "      <td>1297</td>\n",
       "      <td>30/12/2018</td>\n",
       "      <td>Стандарт</td>\n",
       "      <td>Калиниград</td>\n",
       "      <td>Binders</td>\n",
       "      <td>28781,13</td>\n",
       "    </tr>\n",
       "    <tr>\n",
       "      <th>...</th>\n",
       "      <td>...</td>\n",
       "      <td>...</td>\n",
       "      <td>...</td>\n",
       "      <td>...</td>\n",
       "      <td>...</td>\n",
       "      <td>...</td>\n",
       "    </tr>\n",
       "    <tr>\n",
       "      <th>9795</th>\n",
       "      <td>1760</td>\n",
       "      <td>05/01/2015</td>\n",
       "      <td>Стандарт</td>\n",
       "      <td>Владивосток</td>\n",
       "      <td>Art</td>\n",
       "      <td>8639,472</td>\n",
       "    </tr>\n",
       "    <tr>\n",
       "      <th>9796</th>\n",
       "      <td>740</td>\n",
       "      <td>04/01/2015</td>\n",
       "      <td>Стандарт</td>\n",
       "      <td>Урал</td>\n",
       "      <td>Labels</td>\n",
       "      <td>15246,05</td>\n",
       "    </tr>\n",
       "    <tr>\n",
       "      <th>9797</th>\n",
       "      <td>741</td>\n",
       "      <td>04/01/2015</td>\n",
       "      <td>Стандарт</td>\n",
       "      <td>Урал</td>\n",
       "      <td>Storage</td>\n",
       "      <td>20415,81</td>\n",
       "    </tr>\n",
       "    <tr>\n",
       "      <th>9798</th>\n",
       "      <td>742</td>\n",
       "      <td>04/01/2015</td>\n",
       "      <td>Стандарт</td>\n",
       "      <td>Урал</td>\n",
       "      <td>Binders</td>\n",
       "      <td>4559,085</td>\n",
       "    </tr>\n",
       "    <tr>\n",
       "      <th>9799</th>\n",
       "      <td>7981</td>\n",
       "      <td>03/01/2015</td>\n",
       "      <td>Стандарт</td>\n",
       "      <td>Урал</td>\n",
       "      <td>Paper</td>\n",
       "      <td>11726,47</td>\n",
       "    </tr>\n",
       "  </tbody>\n",
       "</table>\n",
       "<p>9800 rows × 6 columns</p>\n",
       "</div>"
      ]
     },
     "execution_count": 148,
     "metadata": {},
     "output_type": "execute_result"
    }
   ],
   "execution_count": 148
  },
  {
   "metadata": {
    "ExecuteTime": {
     "end_time": "2024-09-24T13:10:39.318465Z",
     "start_time": "2024-09-24T13:10:39.225466Z"
    }
   },
   "cell_type": "code",
   "source": [
    "df[\"Order Date\"] = df[\"Order Date\"].apply(lambda x: datetime.datetime.strptime(x, \"%d/%m/%Y\"))\n",
    "df[\"Sales\"] = df[\"Sales\"].apply(lambda x: float(x.replace(\",\", \".\")))"
   ],
   "id": "4212bdd659f79e",
   "outputs": [],
   "execution_count": 149
  },
  {
   "metadata": {
    "ExecuteTime": {
     "end_time": "2024-09-24T13:10:39.334464Z",
     "start_time": "2024-09-24T13:10:39.319465Z"
    }
   },
   "cell_type": "code",
   "source": [
    "max_date = max(df[\"Order Date\"])\n",
    "max_date"
   ],
   "id": "9cddfcd96e497907",
   "outputs": [
    {
     "data": {
      "text/plain": [
       "Timestamp('2018-12-30 00:00:00')"
      ]
     },
     "execution_count": 150,
     "metadata": {},
     "output_type": "execute_result"
    }
   ],
   "execution_count": 150
  },
  {
   "metadata": {
    "ExecuteTime": {
     "end_time": "2024-09-24T13:10:39.349467Z",
     "start_time": "2024-09-24T13:10:39.335466Z"
    }
   },
   "cell_type": "code",
   "source": [
    "one_year = max_date - pd.DateOffset(years=1)\n",
    "two_year = max_date - pd.DateOffset(years=2)\n",
    "one_year"
   ],
   "id": "856d9c0e4568980c",
   "outputs": [
    {
     "data": {
      "text/plain": [
       "Timestamp('2017-12-30 00:00:00')"
      ]
     },
     "execution_count": 151,
     "metadata": {},
     "output_type": "execute_result"
    }
   ],
   "execution_count": 151
  },
  {
   "metadata": {},
   "cell_type": "markdown",
   "source": [
    "Решение задач\n",
    "\n",
    "Задание 1\n",
    "\n",
    " а) Какие подгруппы товаров наиболее часто покупают за все время продаж (минимум 4 группы)?\n",
    " \n",
    " б) Какие подгруппы товаров наиболее часто покупают за последние два года (минимум 4 группы)?\n",
    " \n",
    " в) Какие подгруппы товаров наиболее часто покупают за последний год(минимум 4 группы)?\n"
   ],
   "id": "c8f2053b598621cb"
  },
  {
   "metadata": {},
   "cell_type": "markdown",
   "source": "Первые 10 самых популярных подгрупп товаров за все время",
   "id": "455320226af7aab8"
  },
  {
   "metadata": {},
   "cell_type": "markdown",
   "source": "",
   "id": "a248daa42cd81688"
  },
  {
   "metadata": {
    "ExecuteTime": {
     "end_time": "2024-09-24T13:10:39.365465Z",
     "start_time": "2024-09-24T13:10:39.351469Z"
    }
   },
   "cell_type": "code",
   "source": "df[\"Sub-Category\"].value_counts()[:10] / len(df)",
   "id": "bfaf91bdf1407058",
   "outputs": [
    {
     "data": {
      "text/plain": [
       "Sub-Category\n",
       "Binders        0.152245\n",
       "Paper          0.136531\n",
       "Furnishings    0.095000\n",
       "Phones         0.089388\n",
       "Storage        0.084898\n",
       "Art            0.080102\n",
       "Accessories    0.077143\n",
       "Chairs         0.061939\n",
       "Appliances     0.046837\n",
       "Labels         0.036429\n",
       "Name: count, dtype: float64"
      ]
     },
     "execution_count": 152,
     "metadata": {},
     "output_type": "execute_result"
    }
   ],
   "execution_count": 152
  },
  {
   "metadata": {},
   "cell_type": "markdown",
   "source": "Первые 10 самых популярных подгрупп товаров за последние 2 года",
   "id": "6e15ab653726498b"
  },
  {
   "metadata": {
    "ExecuteTime": {
     "end_time": "2024-09-24T13:10:39.380466Z",
     "start_time": "2024-09-24T13:10:39.366466Z"
    }
   },
   "cell_type": "code",
   "source": "df[df[\"Order Date\"] >= two_year][\"Sub-Category\"].value_counts()[:10] / len(df[df[\"Order Date\"] >= two_year])",
   "id": "61608ec4a2b436ba",
   "outputs": [
    {
     "data": {
      "text/plain": [
       "Sub-Category\n",
       "Binders        0.156164\n",
       "Paper          0.139463\n",
       "Furnishings    0.096074\n",
       "Phones         0.087982\n",
       "Storage        0.084711\n",
       "Art            0.078857\n",
       "Accessories    0.077479\n",
       "Chairs         0.059917\n",
       "Appliances     0.047176\n",
       "Labels         0.035813\n",
       "Name: count, dtype: float64"
      ]
     },
     "execution_count": 153,
     "metadata": {},
     "output_type": "execute_result"
    }
   ],
   "execution_count": 153
  },
  {
   "metadata": {},
   "cell_type": "markdown",
   "source": "Первые 10 самых популярных подгрупп товаров за последний год",
   "id": "e0749647fdecd4fe"
  },
  {
   "metadata": {
    "ExecuteTime": {
     "end_time": "2024-09-24T13:10:39.395466Z",
     "start_time": "2024-09-24T13:10:39.381465Z"
    }
   },
   "cell_type": "code",
   "source": "df[df[\"Order Date\"] >= one_year][\"Sub-Category\"].value_counts()[:10] / len(df[df[\"Order Date\"] >= one_year])",
   "id": "85a521489e104229",
   "outputs": [
    {
     "data": {
      "text/plain": [
       "Sub-Category\n",
       "Binders        0.151543\n",
       "Paper          0.138711\n",
       "Furnishings    0.094714\n",
       "Phones         0.088909\n",
       "Storage        0.086465\n",
       "Art            0.086159\n",
       "Accessories    0.081271\n",
       "Chairs         0.057440\n",
       "Appliances     0.049190\n",
       "Labels         0.034830\n",
       "Name: count, dtype: float64"
      ]
     },
     "execution_count": 154,
     "metadata": {},
     "output_type": "execute_result"
    }
   ],
   "execution_count": 154
  },
  {
   "metadata": {},
   "cell_type": "markdown",
   "source": [
    "Вывод: Категориям товаров из года в год (актуально с уходом вглубь до двух лет) свойственно оставаться на тех же позициях что и раньше\n",
    "4 самых популярных это\n",
    "\n",
    "Binders\n",
    "\n",
    "Paper\n",
    "\n",
    "Furnishings\n",
    "\n",
    "Phones\n"
   ],
   "id": "c9666774e5ca06d2"
  },
  {
   "metadata": {},
   "cell_type": "raw",
   "source": [
    " Задание 2\n",
    " Построить boxplot («Ящик с усами») на основе продаж (Sales). Найти мажоритарную черту (т.е. избавиться от аномалий и представить четкую картину распределения величин).\n",
    " Можно использовать правило трех сигм. Однако любые другие решения приветствуются.\n"
   ],
   "id": "14e2a37d8fda6faa"
  },
  {
   "metadata": {
    "ExecuteTime": {
     "end_time": "2024-09-24T13:10:39.506468Z",
     "start_time": "2024-09-24T13:10:39.396466Z"
    }
   },
   "cell_type": "code",
   "source": [
    "df.boxplot(\"Sales\")\n",
    "plt.title(\"boxplot на основе продаж\")\n",
    "plt.show()"
   ],
   "id": "128c93ff92f65f02",
   "outputs": [
    {
     "data": {
      "text/plain": [
       "<Figure size 640x480 with 1 Axes>"
      ],
      "image/png": "[encoded data removed]"
     },
     "metadata": {},
     "output_type": "display_data"
    }
   ],
   "execution_count": 155
  },
  {
   "metadata": {
    "ExecuteTime": {
     "end_time": "2024-09-24T13:10:39.744608Z",
     "start_time": "2024-09-24T13:10:39.508468Z"
    }
   },
   "cell_type": "code",
   "source": "sns.histplot(df[\"Sales\"])",
   "id": "a062cb94558d8b92",
   "outputs": [
    {
     "data": {
      "text/plain": [
       "<Axes: xlabel='Sales', ylabel='Count'>"
      ]
     },
     "execution_count": 156,
     "metadata": {},
     "output_type": "execute_result"
    },
    {
     "data": {
      "text/plain": [
       "<Figure size 640x480 with 1 Axes>"
      ],
      "image/png": "[encoded data removed]"
     },
     "metadata": {},
     "output_type": "display_data"
    }
   ],
   "execution_count": 156
  },
  {
   "metadata": {},
   "cell_type": "markdown",
   "source": "Удалим выбросы методом межквартильного диапазона",
   "id": "49688b964b632156"
  },
  {
   "metadata": {
    "ExecuteTime": {
     "end_time": "2024-09-24T13:10:39.760293Z",
     "start_time": "2024-09-24T13:10:39.746575Z"
    }
   },
   "cell_type": "code",
   "source": [
    "def df_processing(df, column):\n",
    "    Q1 = df[column].quantile(0.25)\n",
    "    Q3 = df[column].quantile(0.75)\n",
    "    IQR = Q3 - Q1\n",
    "\n",
    "    lower_bound = Q1 - 3 * IQR\n",
    "    upper_bound = Q3 + 3 * IQR\n",
    "    print(\"lower_bound\", lower_bound)\n",
    "    print(\"upper_bound\", upper_bound)\n",
    "    df_res = df[(df[column] >= lower_bound) & (df[column] <= upper_bound)]\n",
    "\n",
    "    return df_res"
   ],
   "id": "3a4133f4a8f2424d",
   "outputs": [],
   "execution_count": 157
  },
  {
   "metadata": {
    "ExecuteTime": {
     "end_time": "2024-09-24T13:10:39.776330Z",
     "start_time": "2024-09-24T13:10:39.761293Z"
    }
   },
   "cell_type": "code",
   "source": "print(f'Диапазон: {df[\"Sales\"].min()}-{df[\"Sales\"].max()}')",
   "id": "d4691b330cdc038e",
   "outputs": [
    {
     "name": "stdout",
     "output_type": "stream",
     "text": [
      "Диапазон: 1002.794-44995.41\n"
     ]
    }
   ],
   "execution_count": 158
  },
  {
   "metadata": {
    "ExecuteTime": {
     "end_time": "2024-09-24T13:10:39.791327Z",
     "start_time": "2024-09-24T13:10:39.777294Z"
    }
   },
   "cell_type": "code",
   "source": "df_modified = df_processing(df, \"Sales\")",
   "id": "cd0c9c8fba719011",
   "outputs": [
    {
     "name": "stdout",
     "output_type": "stream",
     "text": [
      "lower_bound -52647.88999999999\n",
      "upper_bound 98513.64499999999\n"
     ]
    }
   ],
   "execution_count": 159
  },
  {
   "metadata": {
    "ExecuteTime": {
     "end_time": "2024-09-24T13:10:39.806293Z",
     "start_time": "2024-09-24T13:10:39.793293Z"
    }
   },
   "cell_type": "code",
   "source": "print(f'Диапазон: {df_modified[\"Sales\"].min()}-{df_modified[\"Sales\"].max()}')",
   "id": "1f4562f63813314",
   "outputs": [
    {
     "name": "stdout",
     "output_type": "stream",
     "text": [
      "Диапазон: 1002.794-44995.41\n"
     ]
    }
   ],
   "execution_count": 160
  },
  {
   "metadata": {
    "ExecuteTime": {
     "end_time": "2024-09-24T13:10:39.822032Z",
     "start_time": "2024-09-24T13:10:39.807296Z"
    }
   },
   "cell_type": "code",
   "source": [
    "print(f\"Размер до {len(df)}\")\n",
    "print(f\"Размер после {len(df_modified)}\")"
   ],
   "id": "ac2ed9af7e33f973",
   "outputs": [
    {
     "name": "stdout",
     "output_type": "stream",
     "text": [
      "Размер до 9800\n",
      "Размер после 9800\n"
     ]
    }
   ],
   "execution_count": 161
  },
  {
   "metadata": {},
   "cell_type": "markdown",
   "source": "Датасет не изменился. Значит выбросов по значениям там нет. Поищем выбросы по моде",
   "id": "663809a8da64e99e"
  },
  {
   "metadata": {
    "ExecuteTime": {
     "end_time": "2024-09-24T13:10:39.837879Z",
     "start_time": "2024-09-24T13:10:39.823067Z"
    }
   },
   "cell_type": "code",
   "source": "df[\"Sales\"].round().value_counts()",
   "id": "b9e9a555357121a7",
   "outputs": [
    {
     "data": {
      "text/plain": [
       "Sales\n",
       "14979.0    4\n",
       "38704.0    4\n",
       "5828.0     4\n",
       "35324.0    4\n",
       "18820.0    3\n",
       "          ..\n",
       "8487.0     1\n",
       "37744.0    1\n",
       "40181.0    1\n",
       "41564.0    1\n",
       "11726.0    1\n",
       "Name: count, Length: 8759, dtype: int64"
      ]
     },
     "execution_count": 162,
     "metadata": {},
     "output_type": "execute_result"
    }
   ],
   "execution_count": 162
  },
  {
   "metadata": {},
   "cell_type": "markdown",
   "source": "Выход номер два",
   "id": "c03f56c0115586a0"
  },
  {
   "metadata": {
    "ExecuteTime": {
     "end_time": "2024-09-24T13:10:39.853878Z",
     "start_time": "2024-09-24T13:10:39.838880Z"
    }
   },
   "cell_type": "code",
   "source": [
    "def clean_2_way(df, column):\n",
    "    majority_value = df[column].mode()[0]\n",
    "    z_scores = np.abs(stats.zscore(df[column]))\n",
    "\n",
    "    outliers = z_scores > 10\n",
    "    df[column][outliers] = majority_value\n",
    "\n",
    "    return df.copy(deep=True)"
   ],
   "id": "45f97e41dcf3da1a",
   "outputs": [],
   "execution_count": 163
  },
  {
   "metadata": {
    "ExecuteTime": {
     "end_time": "2024-09-24T13:10:39.869140Z",
     "start_time": "2024-09-24T13:10:39.854879Z"
    }
   },
   "cell_type": "code",
   "source": [
    "df_modified_2 = clean_2_way(df_modified, \"Sales\")\n",
    "len(df_modified_2)"
   ],
   "id": "94c1efbd8c868767",
   "outputs": [
    {
     "data": {
      "text/plain": [
       "9800"
      ]
     },
     "execution_count": 164,
     "metadata": {},
     "output_type": "execute_result"
    }
   ],
   "execution_count": 164
  },
  {
   "metadata": {},
   "cell_type": "markdown",
   "source": "Выбросы я так и не нашел. Скорее всего они отсутствуют в данных",
   "id": "b760cbc58c641904"
  },
  {
   "metadata": {},
   "cell_type": "markdown",
   "source": [
    " Задание 3\n",
    " Для этого задания необходимо разбить все покупки на энное количество групп “Sale_group” (Допустим маленькие продажи, средние и высокие) на основе Sales\n",
    " \n",
    "Сгруппировать данные на основе региона и группы продаж (Region, Sale_group). Определить основные тенденции и паттерны. Выделить наиболее «прибыльную» группу.\n"
   ],
   "id": "8e948c76c94cdff4"
  },
  {
   "metadata": {
    "ExecuteTime": {
     "end_time": "2024-09-24T14:14:55.729658Z",
     "start_time": "2024-09-24T14:14:55.721308Z"
    }
   },
   "cell_type": "code",
   "source": [
    "values = df['Sales'].max() - df['Sales'].min()\n",
    "values = [values * 0.3, values * 0.6]\n",
    "labels = ['Low Sales', 'Mid Sales', 'Big Sales']\n",
    "\n",
    "df['Sale_group'] = [labels[0] if i < values[0] else \\\n",
    "                        labels[2] if i > values[1] else labels[1] for i in df[\"Sales\"]]"
   ],
   "id": "bfb716bda9565221",
   "outputs": [],
   "execution_count": 209
  },
  {
   "metadata": {
    "ExecuteTime": {
     "end_time": "2024-09-24T14:14:56.318458Z",
     "start_time": "2024-09-24T14:14:56.058426Z"
    }
   },
   "cell_type": "code",
   "source": [
    "grouped = df.groupby([\"Sale_group\", \"Region\"]).agg(\n",
    "    total=('Sales', 'sum'),\n",
    "    count=('Sales', 'count')\n",
    ").reset_index()\n",
    "\n",
    "matplotlib.rcParams.update({'font.size': 20})\n",
    "plt.figure(figsize=(16, 9))\n",
    "sns.barplot(data=grouped, x='Region', y='total', hue='Sale_group')"
   ],
   "id": "40dbde7441ca0a9d",
   "outputs": [
    {
     "data": {
      "text/plain": [
       "<Axes: xlabel='Region', ylabel='total'>"
      ]
     },
     "execution_count": 210,
     "metadata": {},
     "output_type": "execute_result"
    },
    {
     "data": {
      "text/plain": [
       "<Figure size 1600x900 with 1 Axes>"
      ],
      "image/png": "[encoded data removed]"
     },
     "metadata": {},
     "output_type": "display_data"
    }
   ],
   "execution_count": 210
  },
  {
   "metadata": {
    "ExecuteTime": {
     "end_time": "2024-09-24T13:52:15.303040Z",
     "start_time": "2024-09-24T13:52:15.292438Z"
    }
   },
   "cell_type": "code",
   "source": "grouped",
   "id": "e63f17fc5fa1560a",
   "outputs": [
    {
     "data": {
      "text/plain": [
       "   Sale_group       Region         total  count\n",
       "0   Low Sales  Владивосток  7.643758e+06    933\n",
       "1   Low Sales   Калиниград  8.702214e+06   1027\n",
       "2   Low Sales       Москва  4.225440e+06    516\n",
       "3   Low Sales         Урал  6.294823e+06    758\n",
       "4   Mid Sales  Владивосток  1.992725e+07    877\n",
       "5   Mid Sales   Калиниград  2.466447e+07   1082\n",
       "6   Mid Sales       Москва  1.201696e+07    529\n",
       "7   Mid Sales         Урал  1.685560e+07    746\n",
       "8   Big Sales  Владивосток  3.638168e+07    975\n",
       "9   Big Sales   Калиниград  3.856362e+07   1031\n",
       "10  Big Sales       Москва  2.064926e+07    553\n",
       "11  Big Sales         Урал  2.870817e+07    773"
      ],
      "text/html": [
       "<div>\n",
       "<style scoped>\n",
       "    .dataframe tbody tr th:only-of-type {\n",
       "        vertical-align: middle;\n",
       "    }\n",
       "\n",
       "    .dataframe tbody tr th {\n",
       "        vertical-align: top;\n",
       "    }\n",
       "\n",
       "    .dataframe thead th {\n",
       "        text-align: right;\n",
       "    }\n",
       "</style>\n",
       "<table border=\"1\" class=\"dataframe\">\n",
       "  <thead>\n",
       "    <tr style=\"text-align: right;\">\n",
       "      <th></th>\n",
       "      <th>Sale_group</th>\n",
       "      <th>Region</th>\n",
       "      <th>total</th>\n",
       "      <th>count</th>\n",
       "    </tr>\n",
       "  </thead>\n",
       "  <tbody>\n",
       "    <tr>\n",
       "      <th>0</th>\n",
       "      <td>Low Sales</td>\n",
       "      <td>Владивосток</td>\n",
       "      <td>7.643758e+06</td>\n",
       "      <td>933</td>\n",
       "    </tr>\n",
       "    <tr>\n",
       "      <th>1</th>\n",
       "      <td>Low Sales</td>\n",
       "      <td>Калиниград</td>\n",
       "      <td>8.702214e+06</td>\n",
       "      <td>1027</td>\n",
       "    </tr>\n",
       "    <tr>\n",
       "      <th>2</th>\n",
       "      <td>Low Sales</td>\n",
       "      <td>Москва</td>\n",
       "      <td>4.225440e+06</td>\n",
       "      <td>516</td>\n",
       "    </tr>\n",
       "    <tr>\n",
       "      <th>3</th>\n",
       "      <td>Low Sales</td>\n",
       "      <td>Урал</td>\n",
       "      <td>6.294823e+06</td>\n",
       "      <td>758</td>\n",
       "    </tr>\n",
       "    <tr>\n",
       "      <th>4</th>\n",
       "      <td>Mid Sales</td>\n",
       "      <td>Владивосток</td>\n",
       "      <td>1.992725e+07</td>\n",
       "      <td>877</td>\n",
       "    </tr>\n",
       "    <tr>\n",
       "      <th>5</th>\n",
       "      <td>Mid Sales</td>\n",
       "      <td>Калиниград</td>\n",
       "      <td>2.466447e+07</td>\n",
       "      <td>1082</td>\n",
       "    </tr>\n",
       "    <tr>\n",
       "      <th>6</th>\n",
       "      <td>Mid Sales</td>\n",
       "      <td>Москва</td>\n",
       "      <td>1.201696e+07</td>\n",
       "      <td>529</td>\n",
       "    </tr>\n",
       "    <tr>\n",
       "      <th>7</th>\n",
       "      <td>Mid Sales</td>\n",
       "      <td>Урал</td>\n",
       "      <td>1.685560e+07</td>\n",
       "      <td>746</td>\n",
       "    </tr>\n",
       "    <tr>\n",
       "      <th>8</th>\n",
       "      <td>Big Sales</td>\n",
       "      <td>Владивосток</td>\n",
       "      <td>3.638168e+07</td>\n",
       "      <td>975</td>\n",
       "    </tr>\n",
       "    <tr>\n",
       "      <th>9</th>\n",
       "      <td>Big Sales</td>\n",
       "      <td>Калиниград</td>\n",
       "      <td>3.856362e+07</td>\n",
       "      <td>1031</td>\n",
       "    </tr>\n",
       "    <tr>\n",
       "      <th>10</th>\n",
       "      <td>Big Sales</td>\n",
       "      <td>Москва</td>\n",
       "      <td>2.064926e+07</td>\n",
       "      <td>553</td>\n",
       "    </tr>\n",
       "    <tr>\n",
       "      <th>11</th>\n",
       "      <td>Big Sales</td>\n",
       "      <td>Урал</td>\n",
       "      <td>2.870817e+07</td>\n",
       "      <td>773</td>\n",
       "    </tr>\n",
       "  </tbody>\n",
       "</table>\n",
       "</div>"
      ]
     },
     "execution_count": 203,
     "metadata": {},
     "output_type": "execute_result"
    }
   ],
   "execution_count": 203
  },
  {
   "metadata": {},
   "cell_type": "code",
   "outputs": [],
   "execution_count": null,
   "source": "",
   "id": "58ae0c818ccb9ab7"
  },
  {
   "metadata": {},
   "cell_type": "code",
   "outputs": [],
   "execution_count": null,
   "source": "",
   "id": "e86cb3b0c5397b86"
  }
 ],
 "metadata": {
  "kernelspec": {
   "display_name": "Python 3",
   "language": "python",
   "name": "python3"
  },
  "language_info": {
   "codemirror_mode": {
    "name": "ipython",
    "version": 2
   },
   "file_extension": ".py",
   "mimetype": "text/x-python",
   "name": "python",
   "nbconvert_exporter": "python",
   "pygments_lexer": "ipython2",
   "version": "2.7.6"
  }
 },
 "nbformat": 4,
 "nbformat_minor": 5
}
